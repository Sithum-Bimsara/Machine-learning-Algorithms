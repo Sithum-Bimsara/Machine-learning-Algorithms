{
 "cells": [
  {
   "cell_type": "markdown",
   "id": "d4a038e9-05f0-4468-a101-3dc829061f92",
   "metadata": {},
   "source": [
    "# One-Hot Encoding in Machine Learning\n",
    "\n",
    "## What is One-Hot Encoding?\n",
    "One-hot encoding is a method to represent categorical variables as binary vectors. Each unique category is represented as a vector with all elements set to 0 except the one corresponding to the category, which is set to 1.\n",
    "\n",
    "### Example\n",
    "Given three categories: `[\"Red\", \"Green\", \"Blue\"]`, one-hot encoding would represent them as:\n",
    "\n",
    "- **Red**: `[1, 0, 0]`\n",
    "- **Green**: `[0, 1, 0]`\n",
    "- **Blue**: `[0, 0, 1]`\n",
    "\n",
    "---\n",
    "\n",
    "## Why Use One-Hot Encoding?\n",
    "One-hot encoding is crucial because many machine learning algorithms work with numerical data and cannot process categorical text directly. Its benefits include:\n",
    "\n",
    "### 1. No Ordinality Assumption\n",
    "Unlike label encoding, one-hot encoding does not imply any order or ranking between categories. This avoids introducing unintended bias in models.\n",
    "\n",
    "### 2. Compatibility\n",
    "Algorithms like linear regression and neural networks perform better with one-hot encoded features since they interpret the features as independent.\n",
    "\n",
    "---\n",
    "\n",
    "## Algorithm for One-Hot Encoding\n",
    "To perform one-hot encoding, follow these steps:\n",
    "\n",
    "1. **Identify the categorical variable(s)** in the dataset.\n",
    "2. **Determine the unique categories** in each variable.\n",
    "3. **Create a binary column** for each unique category.\n",
    "4. **Assign values**:\n",
    "   - Assign a value of `1` for the category present in a given observation.\n",
    "   - Assign a value of `0` for all other categories.\n",
    "\n",
    "---\n"
   ]
  },
  {
   "cell_type": "code",
   "execution_count": 13,
   "id": "02377ffc-030f-44ff-9c26-15d60d2a674f",
   "metadata": {},
   "outputs": [],
   "source": [
    "import pandas as pd\n",
    "import numpy as np"
   ]
  },
  {
   "cell_type": "code",
   "execution_count": 3,
   "id": "5c051b50-c016-4173-84ac-8cfe582ad488",
   "metadata": {},
   "outputs": [],
   "source": [
    "data = pd.read_csv('student.csv')\n"
   ]
  },
  {
   "cell_type": "code",
   "execution_count": 5,
   "id": "dd963e2a-fa6d-4e96-b07a-499c30a754a2",
   "metadata": {},
   "outputs": [
    {
     "data": {
      "text/plain": [
       "0       pass\n",
       "1       fail\n",
       "2       pass\n",
       "3       pass\n",
       "4     absent\n",
       "5       fail\n",
       "6       fail\n",
       "7       pass\n",
       "8       pass\n",
       "9     absent\n",
       "10      pass\n",
       "Name: result, dtype: object"
      ]
     },
     "execution_count": 5,
     "metadata": {},
     "output_type": "execute_result"
    }
   ],
   "source": [
    "data['result']"
   ]
  },
  {
   "cell_type": "code",
   "execution_count": 7,
   "id": "742f2fff-5737-4cc9-80b9-e561054628de",
   "metadata": {},
   "outputs": [],
   "source": [
    "result_category = data['result']"
   ]
  },
  {
   "cell_type": "code",
   "execution_count": 13,
   "id": "565018ca-4200-40bf-96e8-47d490a4a9c8",
   "metadata": {},
   "outputs": [],
   "source": [
    "from sklearn.preprocessing import LabelEncoder\n",
    "obj = LabelEncoder()\n",
    "result = obj.fit_transform(result_category)"
   ]
  },
  {
   "cell_type": "code",
   "execution_count": 15,
   "id": "d570784c-83ee-4894-b6e0-1a8c47953414",
   "metadata": {},
   "outputs": [
    {
     "data": {
      "text/plain": [
       "array([2, 1, 2, 2, 0, 1, 1, 2, 2, 0, 2])"
      ]
     },
     "execution_count": 15,
     "metadata": {},
     "output_type": "execute_result"
    }
   ],
   "source": [
    "result"
   ]
  },
  {
   "cell_type": "code",
   "execution_count": 17,
   "id": "c237684a-8e7a-4f4b-9870-db56d1e42aa5",
   "metadata": {},
   "outputs": [],
   "source": [
    "from sklearn.preprocessing import LabelBinarizer\n",
    "obj = LabelBinarizer()\n",
    "result = obj.fit_transform(result_category)"
   ]
  },
  {
   "cell_type": "code",
   "execution_count": 19,
   "id": "749d2ccb-b3ff-4f91-8d28-f54cba70a0b4",
   "metadata": {},
   "outputs": [
    {
     "data": {
      "text/plain": [
       "array([[0, 0, 1],\n",
       "       [0, 1, 0],\n",
       "       [0, 0, 1],\n",
       "       [0, 0, 1],\n",
       "       [1, 0, 0],\n",
       "       [0, 1, 0],\n",
       "       [0, 1, 0],\n",
       "       [0, 0, 1],\n",
       "       [0, 0, 1],\n",
       "       [1, 0, 0],\n",
       "       [0, 0, 1]])"
      ]
     },
     "execution_count": 19,
     "metadata": {},
     "output_type": "execute_result"
    }
   ],
   "source": [
    "result"
   ]
  },
  {
   "cell_type": "code",
   "execution_count": null,
   "id": "fa6fe08c-c7fc-4a97-b76c-0ffcef873117",
   "metadata": {},
   "outputs": [],
   "source": []
  }
 ],
 "metadata": {
  "kernelspec": {
   "display_name": "Python [conda env:base] *",
   "language": "python",
   "name": "conda-base-py"
  },
  "language_info": {
   "codemirror_mode": {
    "name": "ipython",
    "version": 3
   },
   "file_extension": ".py",
   "mimetype": "text/x-python",
   "name": "python",
   "nbconvert_exporter": "python",
   "pygments_lexer": "ipython3",
   "version": "3.12.7"
  }
 },
 "nbformat": 4,
 "nbformat_minor": 5
}
