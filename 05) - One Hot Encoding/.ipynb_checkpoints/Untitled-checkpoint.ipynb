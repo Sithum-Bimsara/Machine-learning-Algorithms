{
 "cells": [
  {
   "cell_type": "markdown",
   "id": "a88cb110-897d-44f1-82b5-8c1cc6bf9cd9",
   "metadata": {},
   "source": [
    "# One-Hot Encoding in Machine Learning\n",
    "\n",
    "## What is One-Hot Encoding?\n",
    "One-hot encoding is a method to represent categorical variables as binary vectors. Each unique category is represented as a vector with all elements set to 0 except the one corresponding to the category, which is set to 1.\n",
    "\n",
    "### Example\n",
    "Given three categories: `[\"Red\", \"Green\", \"Blue\"]`, one-hot encoding would represent them as:\n",
    "\n",
    "- **Red**: `[1, 0, 0]`\n",
    "- **Green**: `[0, 1, 0]`\n",
    "- **Blue**: `[0, 0, 1]`\n",
    "\n",
    "---\n",
    "\n",
    "## Why Use One-Hot Encoding?\n",
    "One-hot encoding is crucial because many machine learning algorithms work with numerical data and cannot process categorical text directly. Its benefits include:\n",
    "\n",
    "### 1. No Ordinality Assumption\n",
    "Unlike label encoding, one-hot encoding does not imply any order or ranking between categories. This avoids introducing unintended bias in models.\n",
    "\n",
    "### 2. Compatibility\n",
    "Algorithms like linear regression and neural networks perform better with one-hot encoded features since they interpret the features as independent.\n",
    "\n",
    "---\n",
    "\n",
    "## Algorithm for One-Hot Encoding\n",
    "To perform one-hot encoding, follow these steps:\n",
    "\n",
    "1. **Identify the categorical variable(s)** in the dataset.\n",
    "2. **Determine the unique categories** in each variable.\n",
    "3. **Create a binary column** for each unique category.\n",
    "4. **Assign values**:\n",
    "   - Assign a value of `1` for the category present in a given observation.\n",
    "   - Assign a value of `0` for all other categories.\n",
    "\n",
    "\n"
   ]
  },
  {
   "cell_type": "code",
   "execution_count": 7,
   "id": "63aea633-0941-4bec-aadf-bf928dacc618",
   "metadata": {},
   "outputs": [],
   "source": [
    "import pandas as pd\n",
    "import numpy as np"
   ]
  },
  {
   "cell_type": "code",
   "execution_count": 9,
   "id": "040561d1-600d-4560-b906-43963094334d",
   "metadata": {},
   "outputs": [],
   "source": [
    "data = pd.read_csv('student.csv')"
   ]
  },
  {
   "cell_type": "code",
   "execution_count": 11,
   "id": "3d6bb1f7-c6c2-43ce-a704-eef8db9179db",
   "metadata": {},
   "outputs": [
    {
     "data": {
      "text/html": [
       "<div>\n",
       "<style scoped>\n",
       "    .dataframe tbody tr th:only-of-type {\n",
       "        vertical-align: middle;\n",
       "    }\n",
       "\n",
       "    .dataframe tbody tr th {\n",
       "        vertical-align: top;\n",
       "    }\n",
       "\n",
       "    .dataframe thead th {\n",
       "        text-align: right;\n",
       "    }\n",
       "</style>\n",
       "<table border=\"1\" class=\"dataframe\">\n",
       "  <thead>\n",
       "    <tr style=\"text-align: right;\">\n",
       "      <th></th>\n",
       "      <th>result</th>\n",
       "    </tr>\n",
       "  </thead>\n",
       "  <tbody>\n",
       "    <tr>\n",
       "      <th>0</th>\n",
       "      <td>pass</td>\n",
       "    </tr>\n",
       "    <tr>\n",
       "      <th>1</th>\n",
       "      <td>fail</td>\n",
       "    </tr>\n",
       "    <tr>\n",
       "      <th>2</th>\n",
       "      <td>pass</td>\n",
       "    </tr>\n",
       "    <tr>\n",
       "      <th>3</th>\n",
       "      <td>pass</td>\n",
       "    </tr>\n",
       "    <tr>\n",
       "      <th>4</th>\n",
       "      <td>absent</td>\n",
       "    </tr>\n",
       "    <tr>\n",
       "      <th>5</th>\n",
       "      <td>fail</td>\n",
       "    </tr>\n",
       "    <tr>\n",
       "      <th>6</th>\n",
       "      <td>fail</td>\n",
       "    </tr>\n",
       "    <tr>\n",
       "      <th>7</th>\n",
       "      <td>pass</td>\n",
       "    </tr>\n",
       "    <tr>\n",
       "      <th>8</th>\n",
       "      <td>pass</td>\n",
       "    </tr>\n",
       "    <tr>\n",
       "      <th>9</th>\n",
       "      <td>absent</td>\n",
       "    </tr>\n",
       "    <tr>\n",
       "      <th>10</th>\n",
       "      <td>pass</td>\n",
       "    </tr>\n",
       "  </tbody>\n",
       "</table>\n",
       "</div>"
      ],
      "text/plain": [
       "    result\n",
       "0     pass\n",
       "1     fail\n",
       "2     pass\n",
       "3     pass\n",
       "4   absent\n",
       "5     fail\n",
       "6     fail\n",
       "7     pass\n",
       "8     pass\n",
       "9   absent\n",
       "10    pass"
      ]
     },
     "execution_count": 11,
     "metadata": {},
     "output_type": "execute_result"
    }
   ],
   "source": [
    "data"
   ]
  },
  {
   "cell_type": "code",
   "execution_count": 13,
   "id": "7601c65e-6174-4ee9-b48e-c9bb9dac3305",
   "metadata": {},
   "outputs": [],
   "source": [
    "result_category = data['result']"
   ]
  },
  {
   "cell_type": "code",
   "execution_count": 19,
   "id": "2e63b503-c4ba-422c-a878-e2b28f2959dd",
   "metadata": {},
   "outputs": [],
   "source": [
    "from sklearn.preprocessing import LabelEncoder\n",
    "obj = LabelEncoder()\n",
    "result = obj.fit_transform(result_category)"
   ]
  },
  {
   "cell_type": "code",
   "execution_count": 21,
   "id": "e7cc95f7-14ff-4e0c-bb75-9d0101ce8f27",
   "metadata": {},
   "outputs": [
    {
     "data": {
      "text/plain": [
       "array([2, 1, 2, 2, 0, 1, 1, 2, 2, 0, 2])"
      ]
     },
     "execution_count": 21,
     "metadata": {},
     "output_type": "execute_result"
    }
   ],
   "source": [
    "result"
   ]
  },
  {
   "cell_type": "code",
   "execution_count": 23,
   "id": "6a4d7c7d-dbe8-4859-a1bb-c2f39f85b3c0",
   "metadata": {},
   "outputs": [],
   "source": [
    "from sklearn.preprocessing import LabelBinarizer\n",
    "obj = LabelBinarizer()\n",
    "result = obj.fit_transform(result_category)\n"
   ]
  },
  {
   "cell_type": "code",
   "execution_count": 25,
   "id": "fd12f9ac-47d1-4f98-b6b0-288da05bde0d",
   "metadata": {},
   "outputs": [
    {
     "data": {
      "text/plain": [
       "array([[0, 0, 1],\n",
       "       [0, 1, 0],\n",
       "       [0, 0, 1],\n",
       "       [0, 0, 1],\n",
       "       [1, 0, 0],\n",
       "       [0, 1, 0],\n",
       "       [0, 1, 0],\n",
       "       [0, 0, 1],\n",
       "       [0, 0, 1],\n",
       "       [1, 0, 0],\n",
       "       [0, 0, 1]])"
      ]
     },
     "execution_count": 25,
     "metadata": {},
     "output_type": "execute_result"
    }
   ],
   "source": [
    "result"
   ]
  },
  {
   "cell_type": "markdown",
   "id": "f4163013-2105-4c6c-ab1a-03dedd1959ac",
   "metadata": {},
   "source": []
  }
 ],
 "metadata": {
  "kernelspec": {
   "display_name": "Python [conda env:base] *",
   "language": "python",
   "name": "conda-base-py"
  },
  "language_info": {
   "codemirror_mode": {
    "name": "ipython",
    "version": 3
   },
   "file_extension": ".py",
   "mimetype": "text/x-python",
   "name": "python",
   "nbconvert_exporter": "python",
   "pygments_lexer": "ipython3",
   "version": "3.12.7"
  }
 },
 "nbformat": 4,
 "nbformat_minor": 5
}
